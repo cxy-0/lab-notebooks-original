{
  "cells": [
    {
      "cell_type": "markdown",
      "metadata": {
        "id": "view-in-github",
        "colab_type": "text"
      },
      "source": [
        "<a href=\"https://colab.research.google.com/github/cxy-0/lab-notebooks-original/blob/main/ps1.ipynb\" target=\"_parent\"><img src=\"https://colab.research.google.com/assets/colab-badge.svg\" alt=\"Open In Colab\"/></a>"
      ]
    },
    {
      "cell_type": "markdown",
      "metadata": {
        "id": "hPDuMyh8E7me"
      },
      "source": [
        "# Problem Set 1\n",
        "#### CMSI 1010: Computer Programming and Lab"
      ]
    },
    {
      "cell_type": "markdown",
      "metadata": {
        "id": "fGd49GigE7mi"
      },
      "source": [
        "##### Important Dates\n",
        "\n",
        " - Released: 2024-01-23 at 12:00 am [PT]\n",
        " - Deadline: 2024-01-30 at 11:59 pm [PT]"
      ]
    },
    {
      "cell_type": "markdown",
      "metadata": {
        "id": "zIxMn6NeE7mj"
      },
      "source": [
        "# Question 1: Reading\n",
        "* Chapter 2 in the _Think Python_ textbook: http://greenteapress.com/thinkpython2/thinkpython2.pdf"
      ]
    },
    {
      "cell_type": "markdown",
      "source": [
        "In your own words, summarize the key topics covered in the textbook chapter. Additionally, relate these topics to the concepts and material we've learned in class. How do the ideas presented in the chapter connect to the lessons and discussions we've had in the classroom? Please provide specific examples to support your points."
      ],
      "metadata": {
        "id": "ZqGFqw3I-thE"
      }
    },
    {
      "cell_type": "markdown",
      "metadata": {
        "id": "gQGVQoBQE7mj"
      },
      "source": [
        "--Your reading summary notes go here--\n",
        "\n",
        "\n",
        "Chapter 2: Variables, expressions and statements\n",
        "\n",
        "assignment statement: creates new variable and gives it value\n",
        "variable names: cannot begin with numbers, important for names to be meaningful\n",
        "expression: combination of values, variables, and operators. a value or variable by itself is considered an expression\n",
        "statement: unit of code that has an effect, like creating a variable or displaying a value\n",
        "in general, you cannot perform mathematical operations on strings\n",
        "errors: syntax, structure of program; runtime, or exceptions, does not appear until program starts running; semantic, related to meaning, runs without error but does not do what you intended\n",
        "\n",
        "Summary: Many of the concepts in this chapter are topics we have begun discussing in class, such as PEMDAS and variable naming. It is certainly helpful to have these important terms such as expression versus statement versus string defined, because I was confused sometimes when they were used during class."
      ]
    },
    {
      "cell_type": "markdown",
      "metadata": {
        "id": "W7ZcRdu4E7mk"
      },
      "source": [
        "# Question 2\n",
        "\n",
        "Refer to the above link for the following exercises and edit this file with your answers. Try to take full advantage of [Markdown](https://guides.github.com/features/mastering-markdown/) so that your answers are clearly and beautifully formatted!"
      ]
    },
    {
      "cell_type": "markdown",
      "metadata": {
        "id": "wC7vdkeIE7mk"
      },
      "source": [
        "### Part A\n",
        "\n",
        " **Textbook exercise 2.1**"
      ]
    },
    {
      "cell_type": "markdown",
      "metadata": {
        "id": "w-Y3Jj26E7ml"
      },
      "source": [
        "We’ve seen that n = 42 is legal. What about 42 = n?"
      ]
    },
    {
      "cell_type": "markdown",
      "metadata": {
        "id": "8qwAWbReE7ml"
      },
      "source": [
        "42 = n is not legal, and generates a syntax error"
      ]
    },
    {
      "cell_type": "markdown",
      "metadata": {
        "id": "7rEi2PNHE7mm"
      },
      "source": [
        "How about x = y = 1?"
      ]
    },
    {
      "cell_type": "markdown",
      "metadata": {
        "id": "Ei1YC0qwE7mm"
      },
      "source": [
        "this is legal"
      ]
    },
    {
      "cell_type": "markdown",
      "metadata": {
        "id": "lxOBe-dmE7mn"
      },
      "source": [
        "In some languages every statement ends with a semi-colon ;. What happens if you put a semi-colon at the end of a Python statement?"
      ]
    },
    {
      "cell_type": "markdown",
      "metadata": {
        "id": "pLW-NOuNE7mn"
      },
      "source": [
        "it allows two statements to be connected in one line"
      ]
    },
    {
      "cell_type": "markdown",
      "metadata": {
        "id": "pa0yIjPkE7mn"
      },
      "source": [
        "What if you put a period at the end of a statement?"
      ]
    },
    {
      "cell_type": "markdown",
      "metadata": {
        "id": "guyoDPMGE7mn"
      },
      "source": [
        "syntax error"
      ]
    },
    {
      "cell_type": "markdown",
      "metadata": {
        "id": "X2h8EtaBE7mo"
      },
      "source": [
        "In math notation you can multiply x and y like this: x y. What happens if you try that in Python?"
      ]
    },
    {
      "cell_type": "markdown",
      "metadata": {
        "id": "EWqiWt-rE7mo"
      },
      "source": [
        "syntax error, it needs an operator to know to multiply"
      ]
    },
    {
      "cell_type": "markdown",
      "metadata": {
        "id": "OOQSvbr5E7mo"
      },
      "source": [
        "### Part B\n",
        " **Textbook exercise 2.2** (parts 1, 2, and 3)\n",
        "\n",
        "Practice using Python as a calculator:"
      ]
    },
    {
      "cell_type": "code",
      "source": [],
      "metadata": {
        "id": "c-YwPIi0YWAd"
      },
      "execution_count": null,
      "outputs": []
    },
    {
      "cell_type": "markdown",
      "metadata": {
        "id": "F9SJwed3E7mo"
      },
      "source": [
        "The volume of a sphere with radius $r$ is $4/3 π r^3$. Write a function to get the volume of the sphere given its radius."
      ]
    },
    {
      "cell_type": "code",
      "execution_count": 22,
      "metadata": {
        "id": "Ihks2SlOE7mp"
      },
      "outputs": [],
      "source": [
        "from math import pi\n",
        "\n",
        "def sphere_volume(radius):\n",
        "  return 4 / 3 * pi * (radius**3)\n",
        "\n",
        "assert round(sphere_volume(2), 1) == 33.5\n",
        "assert round(sphere_volume(4), 1) == 268.1\n",
        "assert round(sphere_volume(5.5), 1) == 696.9"
      ]
    },
    {
      "cell_type": "markdown",
      "metadata": {
        "id": "BQHHKTaBE7mq"
      },
      "source": [
        "Suppose the cover price of a book is $\\$ 24.95$, but bookstores get a $40\\%$ discount. Shipping costs $\\$3$ for the first copy and 75 cents for each additional copy. Write a function to calculate the total wholesale cost given the number of copies."
      ]
    },
    {
      "cell_type": "code",
      "execution_count": 25,
      "metadata": {
        "id": "E3QU8kt2E7mq"
      },
      "outputs": [],
      "source": [
        "def total_wholesale_cost(copies):\n",
        "    return (14.97 * copies) + .75*(copies - 1) + 3\n",
        "\n",
        "# Run this cell to test your function!\n",
        "assert (round(total_wholesale_cost(60), 2) == 945.45)\n",
        "assert (round(total_wholesale_cost(100), 2) == 1574.25)\n",
        "assert (round(total_wholesale_cost(200), 2) == 3146.25)"
      ]
    },
    {
      "cell_type": "markdown",
      "metadata": {
        "id": "WweWmZSGE7mq"
      },
      "source": [
        "A runner runs `easy_miles` at an easy pace (8:15 per mile) and `tempo_miles` miles at tempo pace (7:12 per mile). Write a function to calculate the total time of the run in seconds."
      ]
    },
    {
      "cell_type": "code",
      "execution_count": 27,
      "metadata": {
        "id": "ygTl43TmE7mq"
      },
      "outputs": [],
      "source": [
        "def run_total_seconds(easy_miles, tempo_miles):\n",
        "    \"\"\"Return the total seconds of a run with `easy_miles` miles at an easy pace\n",
        "    and `tempo_miles` miles at a tempo pace.\"\"\"\n",
        "    return (easy_miles * 495) + (tempo_miles * 432)\n",
        "\n",
        "# Run this cell to test your function!\n",
        "assert (run_total_seconds(3, 2) == 2349)\n",
        "assert (run_total_seconds(5, 3) == 3771)\n",
        "assert (run_total_seconds(10, 5) == 7110)\n"
      ]
    },
    {
      "cell_type": "markdown",
      "metadata": {
        "id": "va7JQT-tE7mq"
      },
      "source": [
        "# Question 3\n",
        "\n",
        "#### Programming: Write a Mad Lib\n",
        "Mad Libs are word games where one player fills in the blanks of another player’s story by providing words of certain types. When the words are substituted in for the blanks, the result is a complete, grammatically correct, but often nonsensical, story.\n",
        "\n",
        "In this question, we are going to write a program that lets the user make a Mad Lib!\n",
        "\n",
        "First, you will need a Mad Lib: feel free to write your own or choose one from http://www.madglibs.com"
      ]
    },
    {
      "cell_type": "markdown",
      "metadata": {
        "id": "6Fhj7Hb8E7mr"
      },
      "source": [
        "Now, using the `input` function we learned in class, prompt the user for words to fill in the blanks. Ask the user for at least four (4) values (e.g., ADJ, NOUN, VERB, etc.)."
      ]
    },
    {
      "cell_type": "code",
      "execution_count": null,
      "metadata": {
        "id": "ZkBEOUZZE7mr"
      },
      "outputs": [],
      "source": []
    },
    {
      "cell_type": "markdown",
      "metadata": {
        "id": "uQ82WiS6E7mr"
      },
      "source": [
        "Finally, print out the story for the user!"
      ]
    },
    {
      "cell_type": "code",
      "execution_count": null,
      "metadata": {
        "id": "q-rwAaPRE7mr"
      },
      "outputs": [],
      "source": [
        "# your code here"
      ]
    },
    {
      "cell_type": "markdown",
      "metadata": {
        "id": "stn-X-77FtYZ"
      },
      "source": [
        "# Optional: Submit a selfie with a CMSI TA!"
      ]
    },
    {
      "cell_type": "markdown",
      "metadata": {
        "id": "0PA2HcBPQDrf"
      },
      "source": [
        "**Do this:** Upload the selfie image to this notebook by uploading the image to your google drive and make sure it's a public folder and get the shareable link by right-clicking on the picture and choose 'Get a sharable link'. You just need the id of the image so copy that (the id is between /d/ and /view). **There is a text cell below but it is invisible, you have to click below to make it show. Now paste the ID in the link below where it says \"PASTE ID HERE.\"**"
      ]
    },
    {
      "cell_type": "markdown",
      "metadata": {
        "id": "xY5tmgxxSPMc"
      },
      "source": [
        "***\n",
        "![](https://drive.google.com/uc?export=view&id=PASTE_ID_HERE)\n",
        "***"
      ]
    }
  ],
  "metadata": {
    "colab": {
      "provenance": [],
      "include_colab_link": true
    },
    "kernelspec": {
      "display_name": "Python 3",
      "language": "python",
      "name": "python3"
    },
    "language_info": {
      "codemirror_mode": {
        "name": "ipython",
        "version": 3
      },
      "file_extension": ".py",
      "mimetype": "text/x-python",
      "name": "python",
      "nbconvert_exporter": "python",
      "pygments_lexer": "ipython3",
      "version": "3.10.6"
    },
    "vscode": {
      "interpreter": {
        "hash": "369f2c481f4da34e4445cda3fffd2e751bd1c4d706f27375911949ba6bb62e1c"
      }
    }
  },
  "nbformat": 4,
  "nbformat_minor": 0
}